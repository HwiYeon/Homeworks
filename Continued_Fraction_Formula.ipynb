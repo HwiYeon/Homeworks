{
 "metadata": {
  "name": "",
  "signature": "sha256:d18f6335d57b8e96de31da53a29bdd6e0ff56c3269f269f36761cecacb49c058"
 },
 "nbformat": 3,
 "nbformat_minor": 0,
 "worksheets": [
  {
   "cells": [
    {
     "cell_type": "markdown",
     "metadata": {},
     "source": [
      "* \ud559\uacfc : \ucef4\ud4e8\ud130\uc18c\ud504\ud2b8\uc6e8\uc5b4\ud559\uacfc\n",
      "* \ud559\ubc88 : 2014726096\n",
      "* \ud559\ub144 : 2\ud559\ub144\n",
      "* \uc774\ub984 : \uc870\ud718\uc5f0"
     ]
    },
    {
     "cell_type": "markdown",
     "metadata": {},
     "source": [
      "#Generalized continued fraction for square roots\n",
      "###$\n",
      "\\sqrt{x}=1+\\cfrac{x-1}{2 + \\cfrac{x-1}{2 + \\cfrac{x-1}{2+{\\ddots}}}}$"
     ]
    },
    {
     "cell_type": "code",
     "collapsed": false,
     "input": [
      "#square roots function\n",
      "import math\n",
      "from fractions import Fraction\n",
      "\n",
      "def _sqrt(x):\n",
      "    L = [1, 2, 2, 2, 2, 2, 2, 2, 2, 2, 2, 2, 2, 2, 2, 2, 2, 2, 2, 2]\n",
      "    t = 0\n",
      "    while(len(L) > 1):\n",
      "        t = Fraction(x - 1, L.pop() + t)\n",
      "    result = L.pop() + t\n",
      "    return float(result)"
     ],
     "language": "python",
     "metadata": {},
     "outputs": []
    },
    {
     "cell_type": "code",
     "collapsed": false,
     "input": [
      "#\u221a2\n",
      "print(_sqrt(2), math.sqrt(2))"
     ],
     "language": "python",
     "metadata": {},
     "outputs": []
    },
    {
     "cell_type": "code",
     "collapsed": false,
     "input": [
      "#\u221a3\n",
      "print(_sqrt(3), math.sqrt(3))"
     ],
     "language": "python",
     "metadata": {},
     "outputs": []
    },
    {
     "cell_type": "code",
     "collapsed": false,
     "input": [
      "#\u221a5\n",
      "print(_sqrt(5), math.sqrt(5))"
     ],
     "language": "python",
     "metadata": {},
     "outputs": []
    },
    {
     "cell_type": "markdown",
     "metadata": {},
     "source": [
      "#Nilakantha's Series\n",
      "###$\\pi=3+\\cfrac{4}{2*3*4}-\\cfrac{4}{4*5*6}+\\cfrac{4}{6*7*8}-\\cfrac{4}{8*9*10}+\\dots$"
     ]
    },
    {
     "cell_type": "code",
     "collapsed": false,
     "input": [
      "#using Decimal\n",
      "import math\n",
      "from decimal import *\n",
      "\n",
      "def decimal_PI(n):\n",
      "    t = Decimal('3')\n",
      "    for i in range(1, n + 1):\n",
      "        if (i % 2 == 1):\n",
      "            t += (Decimal('4') / ((Decimal('2') * i) * (Decimal('2') * i + 1) * (Decimal('2') * i + 2)))\n",
      "        else:\n",
      "            t -= (Decimal('4') / ((Decimal('2') * i) * (Decimal('2') * i + 1) * (Decimal('2') * i + 2)))\n",
      "    return float(t)"
     ],
     "language": "python",
     "metadata": {},
     "outputs": []
    },
    {
     "cell_type": "code",
     "collapsed": false,
     "input": [
      "print(decimal_PI(999), math.pi)"
     ],
     "language": "python",
     "metadata": {},
     "outputs": []
    },
    {
     "cell_type": "code",
     "collapsed": false,
     "input": [
      "#using Fraction\n",
      "import math\n",
      "from fractions import Fraction\n",
      "\n",
      "def fraction_PI(n):\n",
      "    t = Fraction(3)\n",
      "    for i in range(1, n + 1):\n",
      "        if (i % 2 == 1):\n",
      "            t += (Fraction(4) / ((Fraction(2) * i) * (Fraction(2) * i + 1) * (Fraction(2) * i + 2)))\n",
      "        else:\n",
      "            t -= (Fraction(4) / ((Fraction(2) * i) * (Fraction(2) * i + 1) * (Fraction(2) * i + 2)))\n",
      "    return float(t)"
     ],
     "language": "python",
     "metadata": {},
     "outputs": []
    },
    {
     "cell_type": "code",
     "collapsed": false,
     "input": [
      "print(fraction_PI(999), math.pi)"
     ],
     "language": "python",
     "metadata": {},
     "outputs": []
    }
   ],
   "metadata": {}
  }
 ]
}