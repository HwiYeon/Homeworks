{
 "metadata": {
  "name": "",
  "signature": "sha256:9c1e335049ff668fbd46dd29d965c5239408c95021772706d5dad68a842e7417"
 },
 "nbformat": 3,
 "nbformat_minor": 0,
 "worksheets": [
  {
   "cells": [
    {
     "cell_type": "markdown",
     "metadata": {},
     "source": [
      "* \ud559\uacfc : \ucef4\ud4e8\ud130\uc18c\ud504\ud2b8\uc6e8\uc5b4\ud559\uacfc\n",
      "* \ud559\ubc88 : 2014726096\n",
      "* \ud559\ub144 : 2\ud559\ub144\n",
      "* \uc774\ub984 : \uc870\ud718\uc5f0"
     ]
    },
    {
     "cell_type": "markdown",
     "metadata": {},
     "source": [
      "#GPS \uc88c\ud45c \uac70\ub9ac \uacc4\uc0b0"
     ]
    },
    {
     "cell_type": "markdown",
     "metadata": {},
     "source": [
      "##\uc804\uccb4 \uc774\ub3d9\uac70\ub9ac \uad6c\ud558\uae30"
     ]
    },
    {
     "cell_type": "code",
     "collapsed": false,
     "input": [
      "import math\n",
      "\n",
      "def dmToDec(dm_s):\n",
      "    dm = float(dm_s)\n",
      "    d = dm // 100\n",
      "    m = dm % 100\n",
      "    dec = d + m / 60\n",
      "    return dec\n",
      "\n",
      "def Distance(latitude_1,latitude_2,longitude_1,longitude_2):\n",
      "    latitude = abs(latitude_2 - latitude_1)\n",
      "    longitude = abs(longitude_2 - longitude_1)   \n",
      "    distance_lat = math.pi * 6357 * (latitude / 180)   #\uc9c0\uad6c\uc758 \uc801\ub3c4\ubc18\uc9c0\ub984 : 6,378km\n",
      "    distance_lon = 2 * math.pi * 6378 * (longitude / 360)   #\uc9c0\uad6c\uc758 \uadf9\ubc18\uc9c0\ub984 : 6,357km\n",
      "    result = math.sqrt(pow(distance_lat, 2) + pow(distance_lon, 2))\n",
      "    return result\n",
      "\n",
      "with open('C:/Users/\ud718\uc5f0/Desktop/dobong.log') as _file:\n",
      "    data = []\n",
      "    num = 0\n",
      "    for line in _file:\n",
      "        fields=line.split(',')\n",
      "        if fields[0] != '$GPGGA':\n",
      "            continue\n",
      "        latitude = dmToDec(fields[2])\n",
      "        longitude = dmToDec(fields[4])\n",
      "        data.append([latitude,longitude])\n",
      "        num += 1\n",
      "\n",
      "distance = 0\n",
      "\n",
      "for i in range(0, num - 1):\n",
      "    distance_ = Distance(data[i][0],data[i + 1][0],data[i][1],data[i + 1][1])\n",
      "    distance += distance_\n",
      "    \n",
      "print('\uc804\uccb4 \uc774\ub3d9\uac70\ub9ac\ub294 {:f} km \uc785\ub2c8\ub2e4.'.format(distance))"
     ],
     "language": "python",
     "metadata": {},
     "outputs": [
      {
       "output_type": "stream",
       "stream": "stdout",
       "text": [
        "\uc804\uccb4 \uc774\ub3d9\uac70\ub9ac\ub294 12.747493 km \uc785\ub2c8\ub2e4.\n"
       ]
      }
     ],
     "prompt_number": 23
    },
    {
     "cell_type": "markdown",
     "metadata": {},
     "source": [
      "##\ud3c9\uade0\uc18d\ub3c4 \uad6c\ud558\uae30"
     ]
    },
    {
     "cell_type": "code",
     "collapsed": false,
     "input": [
      "with open('C:/Users/\ud718\uc5f0/Desktop/dobong.log') as _file:\n",
      "    time = []\n",
      "    num = 0\n",
      "    for line in _file:\n",
      "        fields=line.split(',')\n",
      "        if fields[0] != '$GPGGA':\n",
      "            continue\n",
      "        time.append(fields[1])\n",
      "        num+=1\n",
      "        \n",
      "start = int(time[0])\n",
      "end = int(time[num - 1])\n",
      "totalTime = end - start\n",
      "hour = int(totalTime / 10000)\n",
      "minute = int((totalTime - hour * 10000) / 100)\n",
      "second = int(totalTime - hour * 10000 - minute * 100)\n",
      "\n",
      "time = hour * 3600 + minute * 60 + second\n",
      "velocity_avg = distance / time\n",
      "print(\"\ud3c9\uade0 \uc18d\ub3c4\ub294 {:f} km/s \uc785\ub2c8\ub2e4.\".format(velocity_avg))"
     ],
     "language": "python",
     "metadata": {},
     "outputs": [
      {
       "output_type": "stream",
       "stream": "stdout",
       "text": [
        "\ud3c9\uade0 \uc18d\ub3c4\ub294 0.000706 km/s \uc785\ub2c8\ub2e4.\n"
       ]
      }
     ],
     "prompt_number": 32
    },
    {
     "cell_type": "markdown",
     "metadata": {},
     "source": [
      "##\uc624\ub978 \ub204\uc801 \ub192\uc774\uc640 \ub0b4\ub824\uc628 \ub204\uc801 \ub192\uc774 \uad6c\ud558\uae30"
     ]
    },
    {
     "cell_type": "code",
     "collapsed": false,
     "input": [
      "with open('C:/Users/\ud718\uc5f0/Desktop/dobong.log') as _file:\n",
      "    height = []\n",
      "    num=0\n",
      "    for line in _file:\n",
      "        fields = line.split(',')\n",
      "        if fields[0] != '$GPGGA':\n",
      "            continue\n",
      "        height.append(float(fields[9]))\n",
      "        num+=1\n",
      "_up=0\n",
      "_down=0\n",
      "\n",
      "for j in range(0, num - 1):\n",
      "    if height[j] < height[j + 1]:\n",
      "        _up += height[j + 1] - height[j]\n",
      "    elif height[j] > height[j+1]:\n",
      "        _down += height[j] - height[j+1]\n",
      "        \n",
      "print(\"\uc624\ub978 \ub192\uc774\ub294 {:f} km \uc774\uace0, \ub0b4\ub824\uc628 \ub192\uc774\ub294 {:f} km \uc785\ub2c8\ub2e4.\".format(_up / 1000, _down / 1000))"
     ],
     "language": "python",
     "metadata": {},
     "outputs": [
      {
       "output_type": "stream",
       "stream": "stdout",
       "text": [
        "\uc624\ub978 \ub192\uc774\ub294 3.599500 km \uc774\uace0, \ub0b4\ub824\uc628 \ub192\uc774\ub294 3.608400 km \uc785\ub2c8\ub2e4.\n"
       ]
      }
     ],
     "prompt_number": 33
    }
   ],
   "metadata": {}
  }
 ]
}